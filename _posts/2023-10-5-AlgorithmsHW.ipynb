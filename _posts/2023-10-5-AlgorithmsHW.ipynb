{
 "cells": [
  {
   "cell_type": "code",
   "execution_count": 1,
   "metadata": {},
   "outputs": [
    {
     "name": "stdout",
     "output_type": "stream",
     "text": [
      "Analysis Results:\n",
      "Total characters (including spaces and numbers): 4\n",
      "Total letters: 4\n",
      "Total numbers: 0\n",
      "Total vowels: 2\n",
      "Average word length: 4.00\n"
     ]
    }
   ],
   "source": [
    "def analyze_text(text):\n",
    "    # Counting total characters (including spaces and numbers)\n",
    "    total_characters = len(text)\n",
    "\n",
    "    # Counting total vowels\n",
    "    vowels = 'aeiouAEIOU'\n",
    "    total_vowels = sum(1 for char in text if char in vowels)\n",
    "\n",
    "    # Counting total letters\n",
    "    total_letters = sum(1 for char in text if char.isalpha())\n",
    "\n",
    "    # Counting total numbers\n",
    "    total_numbers = sum(1 for char in text if char.isdigit())\n",
    "\n",
    "    # Removing spaces for accurate word count\n",
    "    text_without_spaces = text.replace(' ', '')\n",
    "    \n",
    "    # Counting the number of words\n",
    "    words = text_without_spaces.split()\n",
    "    total_words = len(words)\n",
    "    \n",
    "    # Calculating average word length\n",
    "    total_word_length = sum(len(word) for word in words)\n",
    "    average_word_length = total_word_length / total_words if total_words > 0 else 0\n",
    "\n",
    "    # Displaying the analysis\n",
    "    print(\"Analysis Results:\")\n",
    "    print(f\"Total characters (including spaces and numbers): {total_characters}\")\n",
    "    print(f\"Total letters: {total_letters}\")\n",
    "    print(f\"Total numbers: {total_numbers}\")\n",
    "    print(f\"Total vowels: {total_vowels}\")\n",
    "    print(f\"Average word length: {average_word_length:.2f}\")\n",
    "\n",
    "\n",
    "# Accepting input from the user\n",
    "user_input = input(\"Enter a text to analyze: \")\n",
    "\n",
    "# Analyzing the text\n",
    "analyze_text(user_input)\n"
   ]
  },
  {
   "cell_type": "code",
   "execution_count": 2,
   "metadata": {},
   "outputs": [
    {
     "name": "stdout",
     "output_type": "stream",
     "text": [
      "Analysis Results:\n",
      "Total characters (including spaces and numbers): 4\n",
      "Total letters: 4\n",
      "Total numbers: 0\n",
      "Total vowels: 2\n",
      "Average word length: 4.00\n",
      "Word occurrences:\n",
      "'poop': 1\n"
     ]
    }
   ],
   "source": [
    "from collections import Counter\n",
    "\n",
    "def analyze_text(text):\n",
    "    # Counting total characters (including spaces and numbers)\n",
    "    total_characters = len(text)\n",
    "\n",
    "    # Counting total vowels\n",
    "    vowels = 'aeiouAEIOU'\n",
    "    total_vowels = sum(1 for char in text if char in vowels)\n",
    "\n",
    "    # Counting total letters\n",
    "    total_letters = sum(1 for char in text if char.isalpha())\n",
    "\n",
    "    # Counting total numbers\n",
    "    total_numbers = sum(1 for char in text if char.isdigit())\n",
    "\n",
    "    # Removing spaces for accurate word count\n",
    "    text_without_spaces = text.replace(' ', '')\n",
    "    \n",
    "    # Counting the number of words\n",
    "    words = text_without_spaces.split()\n",
    "    total_words = len(words)\n",
    "    \n",
    "    # Calculating average word length\n",
    "    total_word_length = sum(len(word) for word in words)\n",
    "    average_word_length = total_word_length / total_words if total_words > 0 else 0\n",
    "\n",
    "    # Counting word occurrences\n",
    "    word_counts = Counter(words)\n",
    "\n",
    "    # Displaying the analysis\n",
    "    print(\"Analysis Results:\")\n",
    "    print(f\"Total characters (including spaces and numbers): {total_characters}\")\n",
    "    print(f\"Total letters: {total_letters}\")\n",
    "    print(f\"Total numbers: {total_numbers}\")\n",
    "    print(f\"Total vowels: {total_vowels}\")\n",
    "    print(f\"Average word length: {average_word_length:.2f}\")\n",
    "    \n",
    "    # Displaying word occurrences\n",
    "    print(\"Word occurrences:\")\n",
    "    for word, count in word_counts.items():\n",
    "        print(f\"'{word}': {count}\")\n",
    "\n",
    "\n",
    "# Accepting input from the user\n",
    "user_input = input(\"Enter a text to analyze: \")\n",
    "\n",
    "# Analyzing the text\n",
    "analyze_text(user_input)\n"
   ]
  }
 ],
 "metadata": {
  "kernelspec": {
   "display_name": "Python 3",
   "language": "python",
   "name": "python3"
  },
  "language_info": {
   "codemirror_mode": {
    "name": "ipython",
    "version": 3
   },
   "file_extension": ".py",
   "mimetype": "text/x-python",
   "name": "python",
   "nbconvert_exporter": "python",
   "pygments_lexer": "ipython3",
   "version": "3.11.5"
  },
  "orig_nbformat": 4
 },
 "nbformat": 4,
 "nbformat_minor": 2
}

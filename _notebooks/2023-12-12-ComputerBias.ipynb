{
 "cells": [
  {
   "cell_type": "markdown",
   "metadata": {},
   "source": [
    "---\n",
    "toc: true\n",
    "comments: true\n",
    "layout: post\n",
    "title: Computing Bias\n",
    "description: Team teach about beneficial and harmful effects\n",
    "courses: { compsci: {week: 16} }\n",
    "type: hacks\n",
    "---"
   ]
  },
  {
   "cell_type": "markdown",
   "metadata": {},
   "source": [
    "## Introduction to Computing Bias\n",
    "A brief introduction to computing biases is that human biases are usually incorporated into algorithms or data. If this is confusing to understand, here is one example. When you are browsing Netflix and look at the different categories, you see that typically there are a bunch of Netflix exclusives being displayed more than non-exclusives. This is a form of computing bias as this would benefit Netflix, as the movie or show will never leave Netflix. So, if you get hooked on that show, then you will inevitably keep paying the Netflix subscription."
   ]
  },
  {
   "cell_type": "markdown",
   "metadata": {},
   "source": [
    "# **Implicit and Explicit Bias in Computer Data:**\n",
    "\n",
    "## **Implicit Bias:**\n",
    "\n",
    "Implicit bias occurs when computers unintentionally learn and repeat unfair ideas from the data they are trained on. Here are some important things to know about implicit bias:\n",
    "\n",
    "- **Where It Comes From:** The data used to teach computers might have biases because of human choices, societal norms, or old unfairness.\n",
    "\n",
    "- **Making Biases Worse:** Computers, when trained on biased data, can make existing biases even stronger when they make decisions or predictions.\n",
    "\n",
    "- **Where It Shows Up:** Implicit bias can affect different areas, like hiring, loans, the legal system, and suggestions from technology.\n",
    "\n",
    "- **Fixing It:** To deal with implicit bias, we need to carefully check the data used for training. We can also use different methods to prepare the data and keep an eye on how the computer is doing over time.\n",
    "\n",
    "## **Explicit Bias:**\n",
    "\n",
    "Explicit bias is when people intentionally include unfair ideas in the data used to teach computers. Here are key points about explicit bias:\n",
    "\n",
    "- **People's Choices Matter:** Explicit bias happens when people purposely put their own biases into the data that trains computers.\n",
    "\n",
    "- **Changing Results on Purpose:** Decision-makers might choose or change data to make the computer favor certain results or groups, which can lead to biased outcomes.\n",
    "\n",
    "- **Ethical Concerns:** Explicit bias raises ethical questions because it can keep unfair ideas going, support stereotypes, or treat certain people or groups unfairly.\n",
    "\n",
    "- **Being Responsible and Open:** To tackle explicit bias, it's crucial to be responsible for the choices made and to be open about them. This helps to find and fix biases in the data.\n",
    "\n"
   ]
  }
 ],
 "metadata": {
  "language_info": {
   "name": "python"
  },
  "orig_nbformat": 4
 },
 "nbformat": 4,
 "nbformat_minor": 2
}

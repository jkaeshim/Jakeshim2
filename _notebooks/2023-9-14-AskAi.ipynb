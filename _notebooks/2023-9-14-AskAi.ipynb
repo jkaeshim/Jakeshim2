{
 "cells": [
  {
   "cell_type": "markdown",
   "metadata": {},
   "source": [
    "---\n",
    "toc: true\n",
    "comments: false\n",
    "layout: post\n",
    "title: Ask Wiki\n",
    "description: Ask Wikipedia\n",
    "type: hacks\n",
    "courses: { compsci: {week: 3} }\n",
    "---"
   ]
  },
  {
   "cell_type": "raw",
   "metadata": {},
   "source": [
    "import requests\n",
    "import json\n",
    "\n",
    "WIKIPEDIA_API_URL = 'https://en.wikipedia.org/w/api.php'\n",
    "\n",
    "def fetch_basketball_players():\n",
    "    category_title = 'Category:Basketball_players'\n",
    "    params = {\n",
    "        'action': 'query',\n",
    "        'format': 'json',\n",
    "        'list': 'categorymembers',\n",
    "        'cmtitle': category_title,\n",
    "        'cmlimit': 10  # Adjust the limit as needed\n",
    "    }\n",
    "\n",
    "    response = requests.get(WIKIPEDIA_API_URL, params=params)\n",
    "\n",
    "    if response.status_code == 200:\n",
    "        data = json.loads(response.text)\n",
    "        members = data['query']['categorymembers']\n",
    "        for member in members:\n",
    "            print(f\"Title: {member['title']}, Page ID: {member['pageid']}\")\n",
    "\n",
    "    else:\n",
    "        print('Error fetching data.')\n",
    "\n",
    "if __name__ == '__main__':\n",
    "    fetch_basketball_players()\n"
   ]
  }
 ],
 "metadata": {
  "kernelspec": {
   "display_name": "Python 3",
   "language": "python",
   "name": "python3"
  },
  "language_info": {
   "codemirror_mode": {
    "name": "ipython",
    "version": 3
   },
   "file_extension": ".py",
   "mimetype": "text/x-python",
   "name": "python",
   "nbconvert_exporter": "python",
   "pygments_lexer": "ipython3",
   "version": "3.11.5"
  },
  "orig_nbformat": 4
 },
 "nbformat": 4,
 "nbformat_minor": 2
}

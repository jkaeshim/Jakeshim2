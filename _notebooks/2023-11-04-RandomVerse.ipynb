{
 "cells": [
  {
   "cell_type": "markdown",
   "metadata": {},
   "source": [
    "---\n",
    "toc: True\n",
    "comments: False\n",
    "layout: post\n",
    "title: Random Verse\n",
    "courses: { compsci: {week: 9} }\n",
    "type: hacks\n",
    "---"
   ]
  },
  {
   "cell_type": "raw",
   "metadata": {},
   "source": [
    "<!DOCTYPE html>\n",
    "<html lang=\"en\">\n",
    "<head>\n",
    "<meta charset=\"UTF-8\">\n",
    "<meta name=\"viewport\" content=\"width=device-width, initial-scale=1.0\">\n",
    "<title>Random Bible Verse Generator</title>\n",
    "<script>\n",
    "function getRandomBibleVerse() {\n",
    "    // List of Bible books and chapters - this should be expanded to include all books and their chapters\n",
    "    const books = [\n",
    "        {\"name\": \"Genesis\", \"chapters\": 50},\n",
    "        // ... other books\n",
    "        {\"name\": \"Revelation\", \"chapters\": 22}\n",
    "    ];\n",
    "\n",
    "    // Select a random book\n",
    "    const bookIndex = Math.floor(Math.random() * books.length);\n",
    "    const book = books[bookIndex];\n",
    "\n",
    "    // Select a random chapter\n",
    "    const chapter = Math.floor(Math.random() * book.chapters) + 1;\n",
    "\n",
    "    // Assuming a max of 30 verses per chapter for simplicity\n",
    "    const verse = Math.floor(Math.random() * 30) + 1;\n",
    "\n",
    "    // Construct the reference\n",
    "    const reference = `${book.name}+${chapter}:${verse}`;\n",
    "\n",
    "    // Bible API URL\n",
    "    const url = `https://bible-api.com/${reference}`;\n",
    "\n",
    "    // Fetch the verse from the Bible API\n",
    "    fetch(url)\n",
    "        .then(response => response.json())\n",
    "        .then(data => {\n",
    "            // Display the verse\n",
    "            document.getElementById(\"verse\").textContent = data.text;\n",
    "            document.getElementById(\"reference\").textContent = reference.replace(\"+\", \" \");\n",
    "        })\n",
    "        .catch(error => {\n",
    "            console.error('Error fetching the verse:', error);\n",
    "            document.getElementById(\"verse\").textContent = \"Failed to retrieve verse.\";\n",
    "        });\n",
    "}\n",
    "\n",
    "// Call the function when the page loads\n",
    "window.onload = getRandomBibleVerse;\n",
    "</script>\n",
    "</head>\n",
    "<body>\n",
    "<h1>Random Bible Verse</h1>\n",
    "<p id=\"reference\"></p>\n",
    "<p id=\"verse\"></p>\n",
    "<button onclick=\"getRandomBibleVerse()\">Get Another Verse</button>\n",
    "</body>\n",
    "</html>\n"
   ]
  }
 ],
 "metadata": {
  "kernelspec": {
   "display_name": "Python 3",
   "language": "python",
   "name": "python3"
  },
  "language_info": {
   "codemirror_mode": {
    "name": "ipython",
    "version": 3
   },
   "file_extension": ".py",
   "mimetype": "text/x-python",
   "name": "python",
   "nbconvert_exporter": "python",
   "pygments_lexer": "ipython3",
   "version": "3.11.7"
  },
  "orig_nbformat": 4
 },
 "nbformat": 4,
 "nbformat_minor": 2
}

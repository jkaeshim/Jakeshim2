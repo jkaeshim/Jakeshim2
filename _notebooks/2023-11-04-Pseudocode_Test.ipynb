{
 "cells": [
  {
   "cell_type": "markdown",
   "metadata": {},
   "source": [
    "---\n",
    "title: Pseudocode Notes AP Test\n",
    "comments: true\n",
    "hide: true\n",
    "layout: post\n",
    "description: Notes of AP Pseudocode\n",
    "courses: { compsci: {week: 11} }\n",
    "type: hacks\n",
    "---"
   ]
  },
  {
   "cell_type": "markdown",
   "metadata": {},
   "source": [
    "## Notes on Pseudocode Questions from AP Classroom"
   ]
  },
  {
   "cell_type": "markdown",
   "metadata": {},
   "source": [
    "### Initial Overview\n",
    "\n",
    "- Strange to get used to and requires the collegeboard reference sheet [here](https://apcentral.collegeboard.org/media/pdf/ap-computer-science-principles-exam-reference-sheet.pdf)\n",
    "- Once you know how to use it, super self explanatory and easy to understand\n",
    "- Code blocks are limited but intuitive\n",
    "- Visually simple to work with\n",
    "\n",
    "### Things I noted:\n",
    "\n",
    "- A lot of pseudo problems are worded weirdly and some code blocks are hard to comprehend \n",
    "- Functions like can_move and MOD need you to understand their specific use case pre solving"
   ]
  },
  {
   "cell_type": "markdown",
   "metadata": {},
   "source": [
    "## PROBLEMS I NOTED\n",
    "\n",
    "### Example 1:\n",
    "\n",
    "<img src=\"{{site.baseurl}}/images/psExample6.png\">\n",
    "\n",
    "- pre this question, didnt understand what arrows meant so I needed to look it up and found the answer at this [link](https://apcentral.collegeboard.org/media/pdf/ap-computer-science-principles-exam-reference-sheet.pdf)\n",
    "- post unnderstanding arrows it was just a simple logic problem\n",
    "\n",
    "### Example 2:\n",
    "\n",
    "<img src=\"{{site.baseurl}}/images/psExample5.png\">\n",
    "\n",
    "- Hard to understand at first with the graphing and circles\n",
    "- Once I figured out the function code it was a pretty easy problem to solve, just process of elimination and pseudo knowledge\n",
    "\n",
    "### Example 3:\n",
    "\n",
    "<img src=\"{{site.baseurl}}/images/psExample4.png\">\n",
    "\n",
    "- This was a cool problem to solve, interesting to see how pseudo code works for random problems and interesting to think of ways to model things like a spinner with a randInt function\n",
    "- Pseudo works really well visually here\n",
    "\n",
    "### Example 4:\n",
    "\n",
    "<img src=\"{{site.baseurl}}/images/psExample3.png\">\n",
    "\n",
    "- This one was definitely hard to understand\n",
    "- Lots of code written like python or js but in different formats screwed with my head a bit\n",
    "- Helped me learn pseudo if statements and finding majorities\n",
    "\n",
    "### Example 5:\n",
    "\n",
    "<img src=\"{{site.baseurl}}/images/psExample2.png\">\n",
    "\n",
    "- Interesting problem, structured different than usual with pseudo blocks within blocks\n",
    "- Required me to look back at the Nighthawk Coders student lessons to figure out what a linear vs binary search was\n",
    "\n",
    "### Example 6:\n",
    "\n",
    "<img src=\"{{site.baseurl}}/images/psExample1.png\">\n",
    "\n",
    "- This one was expressely hard to wrap my head around logic wise\n",
    "- Found it helpful to model the situation by writing out the first few outputs"
   ]
  }
 ],
 "metadata": {
  "language_info": {
   "name": "python"
  }
 },
 "nbformat": 4,
 "nbformat_minor": 2
}

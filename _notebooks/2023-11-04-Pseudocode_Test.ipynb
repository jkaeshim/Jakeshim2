{
 "cells": [
  {
   "cell_type": "markdown",
   "metadata": {},
   "source": [
    "---\n",
    "title: Pseudocode Notes College Board\n",
    "comments: false\n",
    "hide: true\n",
    "layout: post\n",
    "description: Notes of Pseudocode on College Board\n",
    "courses: { compsci: {week: 10} }\n",
    "type: hacks\n",
    "---"
   ]
  },
  {
   "cell_type": "markdown",
   "metadata": {},
   "source": [
    "## PSEUDOCODE - College Board"
   ]
  },
  {
   "cell_type": "markdown",
   "metadata": {},
   "source": [
    "### Initial Overview\n",
    "\n",
    "- Strange to get used to and requires the collegeboard reference sheet [here](https://apcentral.collegeboard.org/media/pdf/ap-computer-science-principles-exam-reference-sheet.pdf)\n",
    "- Simple, easy to use. \n",
    "- Code blocks are limited\n",
    "- Visually simple to work with\n",
    "\n",
    "### Things I noted:\n",
    "\n",
    "- Complicated format of the intial question and a couple of complicated code blocks that I didn't really understand\n",
    "- Functions like can_move and MOD need you to understand their specific use case before solving"
   ]
  },
  {
   "cell_type": "markdown",
   "metadata": {},
   "source": [
    "## PROBLEMS I NOTED\n",
    "\n",
    "### Example 1:\n",
    "\n",
    "<img src=\"{{site.baseurl}}/images/psExample6.png\">\n",
    "\n",
    "- Difficulty understanding the meaning of arrows; needed to look up the answer [here](https://apcentral.collegeboard.org/media/pdf/ap-computer-science-principles-exam-reference-sheet.pdf).\n",
    "- After understanding the concept of arrows, it became a straightforward logic problem.\n",
    "\n",
    "### Example 2:\n",
    "\n",
    "<img src=\"{{site.baseurl}}/images/psExample5.png\">\n",
    "\n",
    "- Initial confusion with graphing and circles.\n",
    "- Once I deciphered the function code, it was relatively easy to solve, relying on process of elimination and my pseudo-knowledge.\n",
    "\n",
    "### Example 3:\n",
    "\n",
    "<img src=\"{{site.baseurl}}/images/psExample4.png\">\n",
    "\n",
    "- An intriguing problem that showcased the effectiveness of pseudo code for random scenarios.\n",
    "- It was fascinating to model a spinner using a randInt function, and pseudo code proved highly visual and functional in this case.\n",
    "\n",
    "### Example 4:\n",
    "\n",
    "<img src=\"{{site.baseurl}}/images/psExample3.png\">\n",
    "\n",
    "- This one proved to be challenging to grasp.\n",
    "- The code resembled Python or JavaScript but in a different format, which was initially confusing.\n",
    "- It helped me learn how to use pseudo if statements and identify majorities.\n",
    "\n",
    "### Example 5:\n",
    "\n",
    "<img src=\"{{site.baseurl}}/images/psExample2.png\">\n",
    "\n",
    "- An interesting problem with a different structure, featuring pseudo blocks within blocks.\n",
    "- Required revisiting Nighthawk Coders student lessons to understand the distinction between a linear and binary search.\n",
    "\n",
    "### Example 6:\n",
    "\n",
    "<img src=\"{{site.baseurl}}/images/psExample1.png\">\n",
    "\n",
    "- This problem was particularly challenging to comprehend in terms of logic.\n",
    "- I found it helpful to model the situation by writing out the first few outputs."
   ]
  }
 ],
 "metadata": {
  "language_info": {
   "name": "python"
  }
 },
 "nbformat": 4,
 "nbformat_minor": 2
}

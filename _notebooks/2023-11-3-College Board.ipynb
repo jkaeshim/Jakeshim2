{
 "cells": [
  {
   "cell_type": "markdown",
   "metadata": {},
   "source": [
    "---\n",
    "toc: true\n",
    "comments: false\n",
    "layout: post\n",
    "title: college board test \n",
    "type: tangibles\n",
    "courses: { compsci: {week: 10} }\n",
    "---"
   ]
  },
  {
   "cell_type": "markdown",
   "metadata": {},
   "source": [
    "## QUESTIONS OVERALL\n",
    "\n",
    "Q1-5: Medium difficulty, felt confident in my answers for all.\n",
    "\n",
    "Q6: I had never heard of the IETF, so I looked up basic information to understand the question.\n",
    "\n",
    "Q7-8: Easy.\n",
    "\n",
    "Q9: I received help from Dante to solve this question.\n",
    "\n",
    "Q10-12: Pretty easy.\n",
    "\n",
    "Q13: I was torn between two technically correct options, so I had to figure out which one was right. I eventually chose the correct answer.\n",
    "\n",
    "Q14-21: Pretty easy, didn't need to look anything up. I believe I got them all right.\n",
    "\n",
    "Q22: I was very confused about what the question was asking, so I had to look it up. However, I understood why the answer was correct later on.\n",
    "\n",
    "Q23: Easy.\n",
    "\n",
    "Q24: I had never heard about byte coding before, so I looked it up to grasp the concept.\n",
    "\n",
    "Q25-26: Easy.\n",
    "\n",
    "Q27: If you want to terminate the loop when you win, you would want to end the loop after the code indicates the user has guessed correctly.\n",
    "\n",
    "Q28-35: Pretty easy, took me around 7 minutes to complete.\n",
    "\n",
    "Q36: Options A and B both seemed accurate to me. Upon looking it up, I found that option B is correct because the floating-point representation limits the accuracy of the number.\n",
    "\n",
    "Q37-41: Medium difficulty, no need to look anything up.\n",
    "\n",
    "Q42: The difference between the 128 and 32 bits is 96 bits. I was initially confused about whether it was 96 times or 2 to the power of 96. However, I used 2 to the power of the difference in a previous question.\n",
    "\n",
    "Q43-49: Perhaps the most challenging set of questions, but I managed to find answers for all of them.\n",
    "\n",
    "Q50: I know that the code implements linear search, but I cannot determine whether it works only when the list is sorted. This is because I know it is a list, but I'm going to guess it doesn't need to be sorted.\n",
    "\n",
    "Q51-55: Easy.\n",
    "\n",
    "Q56: I believe the program sequence will be 3, 5, 7, 9, 11, 13, 15, 17, 19. However, it leaves out the odd number 1. Maybe it uses zero-based integer counting?\n",
    "\n",
    "Q57-63: Tricky, but I worked through them.\n",
    "\n",
    "Q64: I was tired, and I had never heard of cloud computing, so I looked it up to understand the question.\n",
    "\n",
    "Q65-66: Alright\n",
    "\n",
    "Overall: I felt pretty good about this test. I didn't have to look up too many answers and was able to use reasoning and identify patterns between the questions. For example, I noticed that every bit works by two to the power of the exponent."
   ]
  },
  {
   "cell_type": "markdown",
   "metadata": {},
   "source": [
    "## QUESTIONS I GOT WRONG\n",
    "\n",
    "Q5\n",
    "- I chose D, but the correct answer was C. I selected D because I believed it was the most logical option.\n",
    "Q13\n",
    "- I chose A but the correct answer is supported by the data in the table but I misread the image. \n",
    "\n",
    "Q14\n",
    "- I chose A, but the correct answer is accurate because program B is one value ahead of program A.\n",
    "\n",
    "Q18\n",
    "- I chose A I misunderstood the question. The correct answer is about simplifying the model, not gathering more data.\n",
    "\n",
    "Q21\n",
    "- I chose Option A but I misread the question\n",
    "\n",
    "Q64,65 These were simple mistakes.\n",
    "\n",
    "Overall, I had a few misconceptions in my answers, but I understood the correct answers after reviewing them."
   ]
  }
 ],
 "metadata": {
  "language_info": {
   "name": "python"
  },
  "orig_nbformat": 4
 },
 "nbformat": 4,
 "nbformat_minor": 2
}

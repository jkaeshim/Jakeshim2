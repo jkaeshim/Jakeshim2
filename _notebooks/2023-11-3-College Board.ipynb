{
 "cells": [
  {
   "cell_type": "markdown",
   "metadata": {},
   "source": [
    "---\n",
    "toc: true\n",
    "comments: false\n",
    "layout: post\n",
    "title: college board \n",
    "type: tangible\n",
    "courses: { compsci: {week: 6} }\n",
    "---"
   ]
  },
  {
   "cell_type": "markdown",
   "metadata": {},
   "source": [
    "## questions I struggled with\n",
    "Q1-5-Medium difficulty felt confident for all\n",
    "\n",
    "Q6 I had never heard of the Ietf so i looked up basic information\n",
    "\n",
    "Q7-8 Easy\n",
    "\n",
    "Q9 Caden came and helped me\n",
    "\n",
    "Q10-12 Pretty Easy\n",
    "\n",
    "Q13 I was stuck between two options since both options were technically correct so I had to figure out with which of the two was right.I chose the right one\n",
    "\n",
    "Q14-21 Pretty easy didn't look anything up. think i got them all right.\n",
    "\n",
    "Q22 Was very confused on what the question was asking so I had to look it up, but I understood why the answer was correct later on.\n",
    "\n",
    "Q23 was Easy\n",
    "\n",
    "Q24 I had never heard about byte coding before so i looked it up.\n",
    "\n",
    "Q25-26 Easy\n",
    "\n",
    "Q27 if you wanted to terminate the loop so it ends when you win you would want to terminate the loop after the code states the user has guessed the game.\n",
    "\n",
    "Q28-35 Pretty easy took me around 7 minutes\n",
    "\n",
    "Q36 Options A an B both seem pretty accurate to me, upon looking it up B is correct because the floating-point representation limits the accuracy of the number\n",
    "\n",
    "Q37-41 Medium difficulty no need to look anything up\n",
    "\n",
    "Q42 The difference between the 128 and 32 bit are 96 bits, So i was confused whether it was 96 times or 2 to the power of 96. However in a previous question i used two to the power of the difference.\n",
    "\n",
    "Q43-49 Maybe the hardest bunch of the questions so far but I was able to get to an answer for all of them.\n",
    "\n",
    "Q50 I know that the code implements linear search, but i cannot figure out whether or not it works only when the list is sorted. THis is because I know it is a list, but I'm gonna guess it doesn't need to be sorted.\n",
    "\n",
    "Q 51-55 Easy Peasy lemon squeezy\n",
    "Q56 So I believe that the program sequence will be 3,5,7,9,11,13,15,17,19, but that leaves the odd number 1 not included, Maybe it uses Zero base integer counting???\n",
    "\n",
    "Q 57-63 Were tricky but I worked through them\n",
    "Q64 I was tired and I had never heard of cloud computing so i looked it up\n",
    "\n",
    "Q 65-66 Mehhhh\n",
    "\n",
    "Overall: I felt pretty good about this test I didn't have to look to many up and was able to use reasoning and identify patterns between the questions. For example, in the usage of bits I noticed every bit works by two to the power of the exponent. I believe I got a 56 on this. I got a 58 Sweeet.\n",
    "\n",
    "\n"
   ]
  }
 ],
 "metadata": {
  "language_info": {
   "name": "python"
  },
  "orig_nbformat": 4
 },
 "nbformat": 4,
 "nbformat_minor": 2
}

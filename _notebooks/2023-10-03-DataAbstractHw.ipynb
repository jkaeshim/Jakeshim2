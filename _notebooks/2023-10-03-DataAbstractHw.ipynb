{
 "cells": [
  {
   "cell_type": "code",
   "execution_count": 17,
   "metadata": {},
   "outputs": [
    {
     "name": "stdout",
     "output_type": "stream",
     "text": [
      "Dante covered a distance of 1200 miles.\n",
      "Jake covered a distance of 1500 miles.\n",
      "The winner of the airplane race is Jake in the 'The Biggest Bird' with a distance of 1500 miles!\n"
     ]
    }
   ],
   "source": [
    "##PROBLEM 1\n",
    "# Define a list of airplane race participants with updated names (Jake and Dante)\n",
    "participants = [\n",
    "    {\"name\": \"Dante\", \"plane\": \"Red Rocket\", \"distance_covered\": 1200},\n",
    "    {\"name\": \"Jake\", \"plane\": \"The Biggest Bird\", \"distance_covered\": 1500}\n",
    "]\n",
    "\n",
    "# Calculate the total distance covered by each pilot during the race\n",
    "for participant in participants:\n",
    "    distance_covered = participant[\"distance_covered\"]\n",
    "    print(f\"{participant['name']} covered a distance of {distance_covered} miles.\")\n",
    "\n",
    "# Determine the winner\n",
    "winner = max(participants, key=lambda x: x[\"distance_covered\"])\n",
    "print(f\"The winner of the airplane race is {winner['name']} in the '{winner['plane']}' with a distance of {winner['distance_covered']} miles!\")\n"
   ]
  },
  {
   "cell_type": "code",
   "execution_count": 9,
   "metadata": {},
   "outputs": [
    {
     "name": "stdout",
     "output_type": "stream",
     "text": [
      "Dog Show Results:\n",
      "Jake scored 40 points!\n",
      "Dante scored 30 points!\n",
      "The winner of the dog show is Jake with 40 points!\n"
     ]
    }
   ],
   "source": [
    "##PROBLEM 2\n",
    "# Define a list of dog show participants with updated names (Jake and Dante)\n",
    "participants = [\n",
    "    {\"name\": \"Jake\", \"breed\": \"Golden Retriever\", \"tricks\": 4},\n",
    "    {\"name\": \"Dante\", \"breed\": \"Labrador\", \"tricks\": 3}\n",
    "]\n",
    "\n",
    "# Calculate the scores for each dog based on the number of tricks they can perform\n",
    "for participant in participants:\n",
    "    tricks = participant[\"tricks\"]\n",
    "    score = tricks * 10  # Each trick is worth 10 points\n",
    "    participant[\"score\"] = score\n",
    "\n",
    "# Determine the winning dog\n",
    "winner = max(participants, key=lambda x: x[\"score\"])\n",
    "\n",
    "# Display the dog show results\n",
    "print(\"Dog Show Results:\")\n",
    "for participant in participants:\n",
    "    print(f\"{participant['name']} scored {participant['score']} points!\")\n",
    "\n",
    "print(f\"The winner of the dog show is {winner['name']} with {winner['score']} points!\")\n"
   ]
  },
  {
   "cell_type": "code",
   "execution_count": 14,
   "metadata": {},
   "outputs": [
    {
     "name": "stdout",
     "output_type": "stream",
     "text": [
      "Withdrawn $1000. New balance: $0\n",
      "Invalid deposit amount.\n",
      "Withdrawn $5. New balance: $0\n",
      "Jake Account Account Holder: Jake, Balance: $0\n",
      "Dante Account Account Holder: Dante, Balance: $0\n"
     ]
    }
   ],
   "source": [
    "##PROBLEM 3\n",
    "class BankAccount:\n",
    "    def __init__(self, account_holder, balance=0):\n",
    "        self.account_holder = account_holder\n",
    "        self.balance = balance\n",
    "\n",
    "    def deposit(self, amount):\n",
    "        if amount > 0:\n",
    "            self.balance += amount\n",
    "            print(f\"Deposited ${amount}. New balance: ${self.balance}\")\n",
    "        else:\n",
    "            print(\"Invalid deposit amount.\")\n",
    "\n",
    "    def withdraw(self, amount):\n",
    "        if 0 < amount <= self.balance:\n",
    "            self.balance -= amount\n",
    "            print(f\"Withdrawn ${amount}. New balance: ${self.balance}\")\n",
    "        else:\n",
    "            print(\"Insufficient funds.\")\n",
    "\n",
    "    def get_balance(self):\n",
    "        return self.balance\n",
    "\n",
    "    def __str__(self):\n",
    "        return f\"Account Holder: {self.account_holder}, Balance: ${self.balance}\"\n",
    "\n",
    "\n",
    "# Create two bank accounts with updated names (Jake and Dante)\n",
    "jakeAccount = BankAccount(\"Jake\", 1000)\n",
    "danteAccount = BankAccount(\"Dante\", 5)\n",
    "\n",
    "# Perform some transactions\n",
    "jakeAccount.withdraw(jakeAccount.get_balance())\n",
    "danteAccount.deposit(jakeAccount.get_balance())\n",
    "danteAccount.withdraw(danteAccount.get_balance())\n",
    "\n",
    "# Display account information\n",
    "print(\"Jake Account\", jakeAccount)\n",
    "print(\"Dante Account\", danteAccount)\n"
   ]
  },
  {
   "cell_type": "code",
   "execution_count": 15,
   "metadata": {},
   "outputs": [
    {
     "name": "stdout",
     "output_type": "stream",
     "text": [
      "The region with the highest economic growth potential is Region A:\n",
      "- GDP Growth Rate: 2.30%\n",
      "- Unemployment Rate: 4.70%\n",
      "- Investment Score: 80.00\n",
      "- Education Index: 0.85\n",
      "- Infrastructure Quality: 7.50\n"
     ]
    }
   ],
   "source": [
    "##PROBLEM 4\n",
    "# Define a list of regions with updated data\n",
    "regions = [\n",
    "    {\n",
    "        \"name\": \"Region A\",\n",
    "        \"GDP_growth\": 2.3,  # Updated GDP growth rate\n",
    "        \"unemployment_rate\": 4.7,  # Updated unemployment rate\n",
    "        \"investment_score\": 80,  # Updated investment score\n",
    "        \"education_index\": 0.85,  # Updated education index\n",
    "        \"infrastructure_quality\": 7.5  # Updated infrastructure quality\n",
    "    },\n",
    "    {\n",
    "        \"name\": \"Region B\",\n",
    "        \"GDP_growth\": 1.8,\n",
    "        \"unemployment_rate\": 5.2,\n",
    "        \"investment_score\": 75,\n",
    "        \"education_index\": 0.78,\n",
    "        \"infrastructure_quality\": 8.2\n",
    "    }\n",
    "]\n",
    "\n",
    "# Function to calculate a score for each region based on economic indicators and weights\n",
    "def calculate_score(region):\n",
    "    score = 0\n",
    "    for indicator, weight in 'weights'.items():\n",
    "        score += region[indicator] * weight\n",
    "    return score\n",
    "\n",
    "# Find the region with the highest economic growth potential\n",
    "best_region = max(regions, key=calculate_score)\n",
    "\n",
    "# Display information about the winning region\n",
    "print(f\"The region with the highest economic growth potential is {best_region['name']}:\")\n",
    "print(f\"- GDP Growth Rate: {best_region['GDP_growth']:.2f}%\")\n",
    "print(f\"- Unemployment Rate: {best_region['unemployment_rate']:.2f}%\")\n",
    "print(f\"- Investment Score: {best_region['investment_score']:.2f}\")\n",
    "print(f\"- Education Index: {best_region['education_index']:.2f}\")\n",
    "print(f\"- Infrastructure Quality: {best_region['infrastructure_quality']:.2f}\")\n"
   ]
  },
  {
   "cell_type": "code",
   "execution_count": 16,
   "metadata": {},
   "outputs": [
    {
     "name": "stdout",
     "output_type": "stream",
     "text": [
      "{'New York': {'names': ['Jake', 'Jake'], 'total_age': 47, 'total_people': 2, 'average_age': 23.5}, 'Los Angeles': {'names': ['Dante', 'Dante'], 'total_age': 65, 'total_people': 2, 'average_age': 32.5}, 'Chicago': {'names': ['Jake'], 'total_age': 28, 'total_people': 1, 'average_age': 28.0}, 'Statistics': {'New York': {'average_age': 23.5, 'total_people': 2}, 'Los Angeles': {'average_age': 32.5, 'total_people': 2}, 'Chicago': {'average_age': 28.0, 'total_people': 1}}}\n"
     ]
    }
   ],
   "source": [
    "##PROBLEM 5\n",
    "def simulate_data_structure(data):\n",
    "    city_data = {}  # Dictionary to store city data\n",
    "    city_stats = {}  # Dictionary to store city statistics\n",
    "\n",
    "    for person in data:\n",
    "        name = person[\"name\"]\n",
    "        age = person[\"age\"]\n",
    "        city = person[\"city\"]\n",
    "\n",
    "        if city not in city_data:\n",
    "            city_data[city] = {\"names\": [], \"total_age\": 0, \"total_people\": 0}\n",
    "\n",
    "        city_data[city][\"names\"].append(name)\n",
    "        city_data[city][\"total_age\"] += age\n",
    "        city_data[city][\"total_people\"] += 1\n",
    "\n",
    "    for city, city_info in city_data.items():\n",
    "        # 2. Calculate the average age for each city\n",
    "        average_age = city_info[\"total_age\"] / city_info[\"total_people\"]\n",
    "        city_info[\"average_age\"] = round(average_age, 2)  # Round to 2 decimal places\n",
    "\n",
    "        # 3. Create a dictionary for city statistics\n",
    "        city_stats[city] = {\n",
    "            \"average_age\": city_info[\"average_age\"],\n",
    "            \"total_people\": city_info[\"total_people\"]\n",
    "        }\n",
    "\n",
    "    # Add the city statistics under the \"Statistics\" key\n",
    "    city_data[\"Statistics\"] = city_stats\n",
    "\n",
    "    return city_data\n",
    "\n",
    "\n",
    "# Example data with updated names (Jake and Dante)\n",
    "data = [\n",
    "    {\"name\": \"Jake\", \"age\": 25, \"city\": \"New York\"},\n",
    "    {\"name\": \"Dante\", \"age\": 30, \"city\": \"Los Angeles\"},\n",
    "    {\"name\": \"Jake\", \"age\": 22, \"city\": \"New York\"},\n",
    "    {\"name\": \"Dante\", \"age\": 35, \"city\": \"Los Angeles\"},\n",
    "    {\"name\": \"Jake\", \"age\": 28, \"city\": \"Chicago\"},\n",
    "]\n",
    "\n",
    "result = simulate_data_structure(data)\n",
    "print(result)\n"
   ]
  }
 ],
 "metadata": {
  "kernelspec": {
   "display_name": "Python 3",
   "language": "python",
   "name": "python3"
  },
  "language_info": {
   "codemirror_mode": {
    "name": "ipython",
    "version": 3
   },
   "file_extension": ".py",
   "mimetype": "text/x-python",
   "name": "python",
   "nbconvert_exporter": "python",
   "pygments_lexer": "ipython3",
   "version": "3.11.5"
  },
  "orig_nbformat": 4
 },
 "nbformat": 4,
 "nbformat_minor": 2
}

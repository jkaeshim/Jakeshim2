{
 "cells": [
  {
   "cell_type": "markdown",
   "metadata": {},
   "source": [
    "---\n",
    "toc: True\n",
    "comments: True\n",
    "layout: post\n",
    "title: Random Cat Facts\n",
    "description: hack\n",
    "courses: {'csp': {'week': 8}}\n",
    "type: hacks\n",
    "---"
   ]
  },
  {
   "cell_type": "raw",
   "metadata": {},
   "source": [
    "<!DOCTYPE html>\n",
    "<html lang=\"en\">\n",
    "<head>\n",
    "    <meta charset=\"UTF-8\">\n",
    "    <meta name=\"viewport\" content=\"width=device-width, initial-scale=1.0\">\n",
    "    <title>Random Cat Fact</title>\n",
    "</head>\n",
    "<body>\n",
    "    <h1>Random Cat Fact</h1>\n",
    "    <button id=\"getCatFact\">Give me a random cat fact</button>\n",
    "    <p id=\"catFact\"></p>\n",
    "\n",
    "    <script>\n",
    "        const button = document.getElementById('getCatFact');\n",
    "        const catFactElement = document.getElementById('catFact');\n",
    "        \n",
    "        button.addEventListener('click', () => {\n",
    "            fetch('https://meowfacts.herokuapp.com/')\n",
    "                .then(response => response.json())\n",
    "                .then(data => {\n",
    "                    catFactElement.textContent = data.data;\n",
    "                })\n",
    "                .catch(error => {\n",
    "                    console.error('An error occurred:', error);\n",
    "                    catFactElement.textContent = 'Failed to fetch cat fact';\n",
    "                });\n",
    "        });\n",
    "    </script>\n",
    "</body>\n",
    "</html>\n"
   ]
  }
 ],
 "metadata": {
  "language_info": {
   "name": "python"
  },
  "orig_nbformat": 4
 },
 "nbformat": 4,
 "nbformat_minor": 2
}

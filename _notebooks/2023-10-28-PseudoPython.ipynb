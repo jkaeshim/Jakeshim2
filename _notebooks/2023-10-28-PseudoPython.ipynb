{
 "cells": [
  {
   "cell_type": "markdown",
   "metadata": {},
   "source": [
    "---\n",
    "layout: post\n",
    "title: PseudoCode\n",
    "description: College Board \n",
    "toc: true\n",
    "comments: true\n",
    "type: hacks\n",
    "courses: { compsci: {week: 9} }\n",
    "---"
   ]
  },
  {
   "cell_type": "markdown",
   "metadata": {},
   "source": [
    "1. Input two numbers, num1 and num2\n",
    "2. Add num1 and num2, store the result in sum\n",
    "3. Display the value of sum\n"
   ]
  },
  {
   "cell_type": "code",
   "execution_count": 1,
   "metadata": {},
   "outputs": [
    {
     "name": "stdout",
     "output_type": "stream",
     "text": [
      "The sum is: 3.0\n"
     ]
    }
   ],
   "source": [
    "num1 = float(input(\"Enter the first number: \"))\n",
    "num2 = float(input(\"Enter the second number: \"))\n",
    "sum = num1 + num2\n",
    "print(\"The sum is:\", sum)\n"
   ]
  },
  {
   "cell_type": "markdown",
   "metadata": {},
   "source": [
    "1. Input three numbers, num1, num2, and num3\n",
    "2. Set max_num to the value of num1\n",
    "3. If num2 is greater than max_num, set max_num to num2\n",
    "4. If num3 is greater than max_num, set max_num to num3\n",
    "5. Display max_num as the maximum value\n"
   ]
  },
  {
   "cell_type": "code",
   "execution_count": 2,
   "metadata": {},
   "outputs": [
    {
     "name": "stdout",
     "output_type": "stream",
     "text": [
      "The maximum number is: 3.0\n"
     ]
    }
   ],
   "source": [
    "num1 = float(input(\"Enter the first number: \"))\n",
    "num2 = float(input(\"Enter the second number: \"))\n",
    "num3 = float(input(\"Enter the third number: \"))\n",
    "max_num = num1\n",
    "\n",
    "if num2 > max_num:\n",
    "    max_num = num2\n",
    "if num3 > max_num:\n",
    "    max_num = num3\n",
    "\n",
    "print(\"The maximum number is:\", max_num)\n"
   ]
  },
  {
   "cell_type": "markdown",
   "metadata": {},
   "source": [
    "1. Input a number, n\n",
    "2. Initialize result to 1\n",
    "3. For i from 1 to n:\n",
    "   1. Multiply result by i and store the result in result\n",
    "4. Display result as the factorial of n\n"
   ]
  },
  {
   "cell_type": "code",
   "execution_count": 3,
   "metadata": {},
   "outputs": [
    {
     "name": "stdout",
     "output_type": "stream",
     "text": [
      "The factorial of 1 is 1\n"
     ]
    }
   ],
   "source": [
    "n = int(input(\"Enter a number: \"))\n",
    "result = 1\n",
    "\n",
    "for i in range(1, n + 1):\n",
    "    result *= i\n",
    "\n",
    "print(\"The factorial of\", n, \"is\", result)\n"
   ]
  },
  {
   "cell_type": "markdown",
   "metadata": {},
   "source": [
    "1. Input a list of elements and a target element to search for\n",
    "2. Initialize index to -1 (indicating not found)\n",
    "3. For each element at position i in the list:\n",
    "   1. If the element is equal to the target element:\n",
    "      1. Set index to i\n",
    "      2. Break from the loop\n",
    "4. If index is not -1, display \"Element found at index: index\"\n",
    "   Else, display \"Element not found\"\n"
   ]
  },
  {
   "cell_type": "code",
   "execution_count": 4,
   "metadata": {},
   "outputs": [
    {
     "name": "stdout",
     "output_type": "stream",
     "text": [
      "Element found at index: 0\n"
     ]
    }
   ],
   "source": [
    "elements = [2, 4, 6, 8, 10, 12, 14]\n",
    "target = int(input(\"Enter the element to search: \"))\n",
    "index = -1\n",
    "\n",
    "for i in range(len(elements)):\n",
    "    if elements[i] == target:\n",
    "        index = i\n",
    "        break\n",
    "\n",
    "if index != -1:\n",
    "    print(\"Element found at index:\", index)\n",
    "else:\n",
    "    print(\"Element not found\")\n"
   ]
  }
 ],
 "metadata": {
  "kernelspec": {
   "display_name": "Python 3",
   "language": "python",
   "name": "python3"
  },
  "language_info": {
   "codemirror_mode": {
    "name": "ipython",
    "version": 3
   },
   "file_extension": ".py",
   "mimetype": "text/x-python",
   "name": "python",
   "nbconvert_exporter": "python",
   "pygments_lexer": "ipython3",
   "version": "3.11.7"
  },
  "orig_nbformat": 4
 },
 "nbformat": 4,
 "nbformat_minor": 2
}

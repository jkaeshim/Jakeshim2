{
 "cells": [
  {
   "cell_type": "markdown",
   "metadata": {},
   "source": [
    "---\n",
    "title: Reflection\n",
    "comments: true\n",
    "hide: true\n",
    "layout: post\n",
    "description: Reflection on everything I've learned and completed over Tri 1\n",
    "courses: { compsci: {week: 11} }\n",
    "type: tangibles\n",
    "---"
   ]
  },
  {
   "cell_type": "markdown",
   "metadata": {},
   "source": [
    "## Weeks 0-3 (Setup and Startup)\n",
    "\n",
    "The beginning of this trimester was a mix of excitement, confusion, and lots of learning. I've loved coding since elementary school but never had the time to really dive into it until now. In the first three weeks, I learned how to set up my computer with tools like Visual Studio Code, Ruby, and Homebrew. I also figured out how to deploy functional websites on GitHub Pages. This was a game-changer for me because it gave me the tools I needed to work on my coding projects and ideas.\n",
    "\n",
    "During this phase, I learned specific skills like downloading libraries and packages, working with makefiles, and displaying Python in Jupyter without using JavaScript. These skills formed the basis for my coding journey.\n",
    "\n",
    "## Weeks 4-7 (Start Of Project Development)\n",
    "\n",
    "After getting the hang of the basics, we started diving into JavaScript and HTML. We explored topics like Nav Basics and HTML basics. What I found exciting was the idea of integrating these lessons into one project rather than tackling them separately. So, I started working on an animated timer, which became my wireframe and also solved other coding challenges.\n",
    "\n",
    "I also learned about CSS integration and how to integrate JavaScript with HTML. This allowed me to create objects using user input data. In my free time, I even built a PDF extractor that could differentiate between body text and headers, which I used to create a spreadsheet for DECA PI's. These weeks were intense, with many late nights spent learning and experimenting with coding and integration. It allowed me to explore coding beyond the classroom, and I really enjoyed it.\n",
    "\n",
    "## Weeks 8-12 (Passion Project Time)\n",
    "\n",
    "The last few weeks were a whirlwind of work and creativity. We started with team collaboration, brainstorming ideas for our student-taught lesson and project. Initially, we thought of creating a skincare Google Chrome extension to track shopping time and find deals. We put a lot of effort into planning and design, but we eventually realized the idea wasn't as great as we thought. So, we had to go back to the drawing board, and with only two to three weeks left, the pressure was on.\n",
    "\n",
    "We eventually decided to develop a scheduling app and divided roles among the team. This phase taught me valuable lessons about managing a team of coders, integrating backend APIs with frontend code, and building HTML pages with strong functionality. I also had the opportunity to teach a college board student lesson, which provided insights into algorithms and algorithmic efficiency. I also learned essential knowledge from my classmates' lessons in APCSP.\n",
    "\n",
    "## Overall Reflection\n",
    "\n",
    "Looking back, this trimester equipped me with the necessary tools to bring my entrepreneurial ideas to life. I've always had a lot of ideas, whether it's creating ebook readers, social networks, or AI-based programs. Finally, I have the ability to test and bring these concepts to life, as I'm currently doing with two out-of-school projects. I'm excited about the upcoming trimester and eager to dive deeper into CSP to put my knowledge into practical use."
   ]
  }
 ],
 "metadata": {
  "kernelspec": {
   "display_name": "Python 3",
   "language": "python",
   "name": "python3"
  },
  "language_info": {
   "name": "python",
   "version": "3.11.4"
  }
 },
 "nbformat": 4,
 "nbformat_minor": 2
}

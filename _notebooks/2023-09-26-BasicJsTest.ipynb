{
 "cells": [
  {
   "cell_type": "markdown",
   "metadata": {},
   "source": [
    "---\n",
    "toc: true\n",
    "comments: false\n",
    "layout: post\n",
    "title: JsTest\n",
    "description: Basic Test\n",
    "type: hacks\n",
    "courses: { compsci: {week: 6} }\n",
    "---"
   ]
  },
  {
   "cell_type": "markdown",
   "metadata": {},
   "source": [
    "<!-- Makes a button, able to be referenced in CSS and JSS by the id \"coolButton\"  -->\n",
    "<button  id=\"coolButton\">Click Me</button>\n",
    "\n",
    "<style>\n",
    "/* CSS for the button */\n",
    "#coolButton {\n",
    "    padding: 10px 20px;\n",
    "    background-color: #3498db;\n",
    "    color: #fff;\n",
    "    border: none;\n",
    "    cursor: pointer;\n",
    "    border-radius: 5px;\n",
    "    width: 10%;\n",
    "    margin-left: 45%;\n",
    "    transition: 0.3s;\n",
    "}\n",
    "\n",
    "/* When the user hovers over */\n",
    "#coolButton:hover {\n",
    "  transform: scale(1.1);\n",
    "}\n",
    "\n",
    "</style>\n",
    "\n",
    "<script>\n",
    "//When the button is clicked, this function runs\n",
    "document.getElementById('coolButton').addEventListener('click', () => {\n",
    "    //this variable is defined by the function getRandomColor\n",
    "    const randomColor = getRandomColor();\n",
    "    //Sets the background of the button to the variable \"randomColor\"\n",
    "    document.getElementById('coolButton').style.backgroundColor = randomColor;\n",
    "});\n",
    "\n",
    "//This function randomly selects a color\n",
    "function getRandomColor() {\n",
    "    return `#${Math.floor(Math.random()*16777215).toString(16)}`;\n",
    "}\n",
    "</script>"
   ]
  }
 ],
 "metadata": {
  "kernelspec": {
   "display_name": "Python 3",
   "language": "python",
   "name": "python3"
  },
  "language_info": {
   "codemirror_mode": {
    "name": "ipython",
    "version": 3
   },
   "file_extension": ".py",
   "mimetype": "text/x-python",
   "name": "python",
   "nbconvert_exporter": "python",
   "pygments_lexer": "ipython3",
   "version": "3.11.5"
  },
  "orig_nbformat": 4
 },
 "nbformat": 4,
 "nbformat_minor": 2
}

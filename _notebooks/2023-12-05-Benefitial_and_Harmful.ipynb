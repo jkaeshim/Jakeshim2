{
 "cells": [
  {
   "cell_type": "markdown",
   "metadata": {},
   "source": [
    "---\n",
    "toc: true\n",
    "comments: true\n",
    "layout: post\n",
    "title: Benefitial and Harmful Effects\n",
    "description: Team teach about beneficial and harmful effects\n",
    "courses: { compsci: {week: 15} }\n",
    "type: hacks\n",
    "---"
   ]
  },
  {
   "cell_type": "markdown",
   "metadata": {},
   "source": [
    "## Programming effects\n",
    "Programming, like any other field, has both beneficial and potentially harmful aspects. The more that programming advances, the more we have to discuss benefits and harmful effects that it brings to society."
   ]
  },
  {
   "cell_type": "markdown",
   "metadata": {},
   "source": [
    "## Example of Program with both benefitial and harmful effects"
   ]
  },
  {
   "cell_type": "code",
   "execution_count": 1,
   "metadata": {},
   "outputs": [
    {
     "name": "stdout",
     "output_type": "stream",
     "text": [
      "Sorry, the business is closed at the moment. Please call back during business hours (8 am to 6 pm).\n"
     ]
    }
   ],
   "source": [
    "    # Automated phone system of a customer service line for a major company\n",
    "    def check_business_hours(hour):\n",
    "        return 8 <= hour < 18\n",
    "\n",
    "    def main():\n",
    "        try:\n",
    "            user_input = input(\"Please enter the current time (24-hour format, e.g., 14 for 2:00 PM): \")\n",
    "            current_time = int(user_input)\n",
    "\n",
    "            if check_business_hours(current_time):\n",
    "                print(\"You are being connected to customer service.\")\n",
    "            else:\n",
    "                print(\"Sorry, the business is closed at the moment. Please call back during business hours (8 am to 6 pm).\")\n",
    "\n",
    "        except ValueError:\n",
    "            print(\"Invalid input. Please enter a valid 24-hour time.\")\n",
    "\n",
    "    if __name__ == \"__main__\":\n",
    "        main()"
   ]
  },
  {
   "cell_type": "markdown",
   "metadata": {},
   "source": [
    "## Beneficial effects: \n",
    "- It saves time for both parties as they limit the hours that a worker needs to answer calls for the company. \n",
    "- It checks whether the entered time is within the business hours (8 am to 6 pm). This ensures that customers are only connected to customer service during operational hours.\n",
    "## Negative effects:\n",
    "- The time may not be versatile for people in different time zones.  \n",
    "- The system lacks customization options such as providing services available outside business hours such as offering automated assistance, or redirecting to online support resources."
   ]
  },
  {
   "cell_type": "markdown",
   "metadata": {},
   "source": [
    "## The benefits and harmful effects of a Multirotor\n",
    "A multirotors also known as a drone, is a type of rotorcraft that has multiple rotors. Inventions such as these are the same as code and have harmful and beneficial effects.\n",
    "\n",
    "Benefits: Deliveries, finding lost people, aereal photography is easy.\n",
    "Harmful: Flying in unregulated zones is illegal and dangerous, privacy concerns."
   ]
  },
  {
   "cell_type": "markdown",
   "metadata": {},
   "source": [
    "## Popcorn Hack 1: Name one beneficial and harmful effect of a Wii controller. (hint: it can be a physical harmful effect)\n",
    "Benefit: Provides Happiness\n",
    "\n",
    "Effect: Could Hurts eyes"
   ]
  },
  {
   "cell_type": "markdown",
   "metadata": {},
   "source": [
    "## Computing innovations can have impacts beyond their intended effects"
   ]
  },
  {
   "cell_type": "markdown",
   "metadata": {},
   "source": [
    "## Example 1: The internet\n",
    "The internet was originally created for scientists to easily share information remotely without needing to send or receive mail from one another. Nowadays, many people use the internet more than they sleep, as the internet has become an integral part of our lives in many ways. Think about how often you use social media, or do school assignments online, or send a simple email. Our use of the internet can cultivate dopamine feedback loops, such as when your crush likes your post on instagram, you get a snap back from that cute girl, or you find a funny TikTok that makes you laugh hysterically. These make us want to seek out these feelings more and more and experience those seconds of happiness. These effects of the internet lead to people having major issues like sleep deprivation, depression, and anxiety.\n",
    "\n",
    "- Original Purpose:\n",
    "    - Created for scientists to share information remotely.\n",
    "    - Eliminated the need for physical mail in communication.\n",
    "- Contemporary Usage:\n",
    "    - Integral part of daily life.\n",
    "    - Extensive use for social media, school assignments, emails.\n",
    "- Impact on Well-being:\n",
    "    - Potential for dopamine feedback loops.\n",
    "    - Examples: Social media likes, Snapchat responses, TikTok enjoyment.\n",
    "- Consequences:\n",
    "    - Increased internet use may lead to sleep deprivation.\n",
    "    - Associated with higher rates of depression and anxiety."
   ]
  },
  {
   "cell_type": "markdown",
   "metadata": {},
   "source": [
    "## Popcorn Hack 2: What 3 apps do you hae the most screentime on and how much are you on it? \n",
    "1: Tiktok 1hr 30\n",
    "2: Snapchat 1 hr\n",
    "3: Spotify 1 hr"
   ]
  },
  {
   "cell_type": "markdown",
   "metadata": {},
   "source": [
    "## Example 2: Microtransactions\n",
    "Definition: a payment of very small value, especially for a special feature of a product such as a video game\n",
    "\n",
    "- Original Purpose:\n",
    "    - Free game access, purchase virtual extras.\n",
    "- Usage:\n",
    "    - Common in free-to-play games, revenue for developers.\n",
    "- Deviation:\n",
    "    - Pay-to-Win, aggressive tactics, loot boxes.\n",
    "    - Microtransactions may reduce ads but imply paywalls.\n",
    "- Concerns:\n",
    "    - Debates on industry impact, ethics.\n",
    "    - Mixed player views: support vs. criticism.\n",
    "- Ongoing:\n",
    "    - Continuous industry debates."
   ]
  },
  {
   "cell_type": "markdown",
   "metadata": {},
   "source": [
    "## Example 3: Artificial Intelligence\n",
    "\n",
    "### What is AI?\n",
    "\n",
    "Artificial Intelligence (AI) is about making computers do tasks that typically require human intelligence, like learning, problem-solving, and understanding language.\n",
    "\n",
    "### Beneficial Effects of AI:\n",
    "\n",
    "1. **Automation and Efficiency:**\n",
    "   - AI helps with repetitive tasks, making things faster and freeing up time for more interesting work.\n",
    "\n",
    "2. **Medical Advancements:**\n",
    "   - AI assists in medical tasks, improving diagnosis, treatment plans, and drug discovery.\n",
    "\n",
    "3. **Enhanced Customer Experience:**\n",
    "   - AI-powered chatbots provide quick and personalized customer support.\n",
    "\n",
    "4. **Innovations in Education:**\n",
    "   - AI creates personalized learning experiences for students.\n",
    "\n",
    "5. **Predictive Analytics:**\n",
    "   - AI analyzes data to make predictions, helping businesses make better decisions.\n",
    "\n",
    "### Harmful Effects of AI:\n",
    "\n",
    "1. **Job Displacement:**\n",
    "   - Automation by AI can lead to job loss in some industries.\n",
    "\n",
    "2. **Bias and Fairness Issues:**\n",
    "   - AI systems might have biases, causing unfair outcomes.\n",
    "\n",
    "3. **Privacy Concerns:**\n",
    "   - AI use in surveillance raises concerns about privacy.\n",
    "\n",
    "4. **Autonomous Weapons:**\n",
    "   - AI-powered weapons raise ethical questions about their use in warfare.\n",
    "\n",
    "5. **Dependency on Technology:**\n",
    "   - Relying too much on AI may lead to a loss of human skills and critical thinking."
   ]
  },
  {
   "cell_type": "markdown",
   "metadata": {},
   "source": [
    "## Homework Hack: Come up with a Program with a beneficial and harmful effects. (You don't have to code it, but your ideas has to be detailed and organized)"
   ]
  },
  {
   "cell_type": "markdown",
   "metadata": {},
   "source": [
    "(Homework right here)\n",
    "\n",
    "Title: **StudySmart App**\n",
    "\n",
    "**Description:**\n",
    "The StudySmart App is designed to assist 10th-grade students in managing their academic responsibilities. Here are three beneficial and three potentially harmful effects of using the app:\n",
    "\n",
    "### Beneficial Effects:\n",
    "\n",
    "1. **Task Organization:**\n",
    "   - **Benefit:** The app helps students organize assignments, set deadlines, and prioritize tasks efficiently.\n",
    "   - **Impact:** Improved time management skills, reduced stress, and a sense of accomplishment as students complete tasks on time.\n",
    "\n",
    "2. **Goal Setting and Motivation:**\n",
    "   - **Benefit:** StudySmart allows students to set academic goals, track progress, and receive reminders for upcoming exams and projects.\n",
    "   - **Impact:** Increased motivation, a clearer sense of purpose, and a structured approach to achieving academic success.\n",
    "\n",
    "3. **Focus Timer for Effective Study:**\n",
    "   - **Benefit:** The app includes a focus timer to encourage students to study in focused intervals with short breaks.\n",
    "   - **Impact:** Enhanced concentration during study sessions, reduced procrastination, and improved overall productivity.\n",
    "\n",
    "### Harmful Effects:\n",
    "\n",
    "1. **Over-reliance on Technology:**\n",
    "   - **Harm:** Students may become overly dependent on the app, relying on it for every aspect of their academic life.\n",
    "   - **Impact:** Reduced ability to manage time without the app, potential anxiety when it malfunctions or is unavailable.\n",
    "\n",
    "2. **Obsessive Goal Pursuit:**\n",
    "   - **Harm:** Constant focus on academic goals may lead to neglecting personal well-being and a balanced lifestyle.\n",
    "   - **Impact:** Increased stress, burnout, and potential negative effects on mental health.\n",
    "\n",
    "3. **Distraction from Real-world Interaction:**\n",
    "   - **Harm:** Excessive use of the app might contribute to increased screen time, potentially leading to social isolation and a decline in face-to-face communication skills.\n",
    "   - **Impact:** Strained relationships, missed social opportunities, and potential negative effects on mental well-being.\n",
    "\n",
    "In conclusion, while the StudySmart App offers valuable tools for academic success, students should be mindful of its potential drawbacks and strive to maintain a healthy balance between technology use and real-world interactions."
   ]
  }
 ],
 "metadata": {
  "kernelspec": {
   "display_name": "Python 3",
   "language": "python",
   "name": "python3"
  },
  "language_info": {
   "codemirror_mode": {
    "name": "ipython",
    "version": 3
   },
   "file_extension": ".py",
   "mimetype": "text/x-python",
   "name": "python",
   "nbconvert_exporter": "python",
   "pygments_lexer": "ipython3",
   "version": "3.10.12"
  }
 },
 "nbformat": 4,
 "nbformat_minor": 2
}

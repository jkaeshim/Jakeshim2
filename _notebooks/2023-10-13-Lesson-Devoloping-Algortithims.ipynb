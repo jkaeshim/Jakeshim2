{
 "cells": [
  {
   "cell_type": "markdown",
   "metadata": {},
   "source": [
    "---\n",
    "toc: True\n",
    "comments: False\n",
    "layout: post\n",
    "title: Developing Algorithms \n",
    "type: plans\n",
    "courses: {'csp': {'week': 7}}\n",
    "---"
   ]
  },
  {
   "cell_type": "markdown",
   "metadata": {},
   "source": [
    "## What are Algorithims?"
   ]
  },
  {
   "cell_type": "markdown",
   "metadata": {},
   "source": [
    "Whats the difference between these two math problems:\n",
    "(3+1)3 + 89 + 4(2+8)\n",
    "3(1+3) + 8(1+4) + 89\n",
    "\n",
    "Nothing! They are just two different ways of doing them!\n",
    "\n",
    "Whats the difference between these two math problems:\n",
    "3((9-6)+7) + 7 - (9+8)\n",
    "3(9-(6+7)) + 7 - 9 + 8\n",
    "\n",
    "A lot! This changes the output by quite a bit!\n",
    "\n",
    "Here are examples of this basic concept in terms of programming:"
   ]
  },
  {
   "cell_type": "code",
   "execution_count": null,
   "metadata": {},
   "outputs": [],
   "source": [
    "print(\"What is the temperature outside °F?\")\n",
    "temp = int(input())\n",
    "if temp > 85:\n",
    "    print(\"It is too hot outside!\")\n",
    "elif temp >= 65:\n",
    "    print(\"Sure, I will play outside!\")\n",
    "else:\n",
    "    print(\"It is too cold outside!\")"
   ]
  },
  {
   "cell_type": "code",
   "execution_count": 15,
   "metadata": {},
   "outputs": [
    {
     "name": "stdout",
     "output_type": "stream",
     "text": [
      "What is the temperature outside °F?\n",
      "It is too hot outside!\n"
     ]
    }
   ],
   "source": [
    "print(\"What is the temperature outside °F?\")\n",
    "temp = int(input())\n",
    "if temp == 85:\n",
    "    print(\"It is too hot outside!\")\n",
    "if temp == 65:\n",
    "    print(\"Sure, I will play outside!\")\n",
    "if temp < 65:\n",
    "    print(\"It is too cold outside!\")"
   ]
  },
  {
   "cell_type": "markdown",
   "metadata": {},
   "source": [
    "### Didn't get it?  \n",
    "Hint: \n",
    "- What if I input 60 degrees °F?\n",
    "- What if I input 90 degrees °F?\n"
   ]
  },
  {
   "cell_type": "markdown",
   "metadata": {},
   "source": [
    "Hack #1: What is the difference between these two pieces of code? (in terms of their output)"
   ]
  },
  {
   "cell_type": "code",
   "execution_count": null,
   "metadata": {},
   "outputs": [],
   "source": [
    "num = 1\n",
    "while num <= 100:\n",
    "    if num % 4 != 0:\n",
    "        print(num, end=' ')\n",
    "    num += 1"
   ]
  },
  {
   "cell_type": "code",
   "execution_count": null,
   "metadata": {},
   "outputs": [],
   "source": [
    "def print_numbers():\n",
    "    for i in range(1, 101):\n",
    "        if i % 4 != 0:\n",
    "            print(i)\n",
    "\n",
    "print_numbers()"
   ]
  },
  {
   "cell_type": "markdown",
   "metadata": {},
   "source": [
    "So when developing algorithms, different pieces of code could do the same thing, and two similar pieces of code could do very different things. "
   ]
  },
  {
   "cell_type": "markdown",
   "metadata": {},
   "source": [
    "# Data Collections\n",
    "\n",
    "### Purpose of Data Collection\n",
    "To gather accurate and relevant information for specific purposes, such as solving problems, making informed decisions, or predicting future trends.\n",
    "\n",
    "### Techniques\n",
    "Surveys and Questionnaires: Structured methods for gathering data from a large number of respondents. They can be administered in-person, online, or through other mediums.\n",
    "\n",
    "Observations: Watching and recording actions or behaviors in a systematic manner.\n",
    "\n",
    "Experiments: Conducting controlled tests or trials to determine cause and effect relationships.\n",
    "\n",
    "Simulations: Using models to imitate real-world situations.\n",
    "\n",
    "Interviews: One-on-one or group discussions to gain in-depth insights.\n",
    "\n",
    "Sensors and Automated Collection: Using electronic devices to automatically collect data, like temperature sensors or traffic cameras.\n",
    "\n",
    "Sampling: Instead of studying an entire population, a subset (or sample) can be studied to make inferences about the entire group.\n",
    "\n",
    "Techniques include random sampling, stratified sampling, and convenience sampling.\n",
    "\n",
    "### Bias and Error\n",
    "Data collection methods can introduce bias or error. It's crucial to be aware of potential sources of bias, like leading questions in surveys or non-random sampling methods.\n",
    "\n",
    "### Privacy and Ethics\n",
    "Always consider the ethical implications of data collection. Obtain consent when necessary, anonymize data to protect individuals' privacy, and be transparent about how data will be used.\n"
   ]
  },
  {
   "cell_type": "markdown",
   "metadata": {},
   "source": [
    "Hack #2:"
   ]
  },
  {
   "cell_type": "code",
   "execution_count": 4,
   "metadata": {},
   "outputs": [],
   "source": [
    "def find_max(numbers):\n",
    "    max_value = numbers[0]\n",
    "    for number in numbers:\n",
    "        if number > max_value:\n",
    "            max_value = number\n",
    "    return max_value\n",
    "#List of numbers\n",
    "numbers = [23, 45, 67, 89, 12, 34, 56, 78]\n",
    "\n",
    "max_value = find_max(numbers)\n",
    "print(max_value)\n"
   ]
  },
  {
   "cell_type": "markdown",
   "metadata": {},
   "source": [
    "List of numbers\n",
    "numbers = [23, 45, 67, 89, 12, 34, 56, 78]\n",
    "\n",
    "TODO: Modify the given algorithm to find the minimum value in the list of numbers.\n",
    "Hint: You only need to change two lines of code."
   ]
  },
  {
   "cell_type": "code",
   "execution_count": 33,
   "metadata": {},
   "outputs": [
    {
     "name": "stdout",
     "output_type": "stream",
     "text": [
      "23\n"
     ]
    }
   ],
   "source": [
    "def find_min(numbers):\n",
    "    min_value = numbers[0]\n",
    "    for number in numbers:\n",
    "        if number < max_value:\n",
    "            min_value = number\n",
    "    return min_value\n",
    "#List of numbers\n",
    "numbers = [23, 45, 67, 89, 12, 34, 56, 78]\n",
    "\n",
    "min_value = find_min(numbers)\n",
    "print(min_value)\n"
   ]
  },
  {
   "cell_type": "markdown",
   "metadata": {},
   "source": [
    "Solution:\n",
    "\n",
    "Modified Algorithm to find the minimum value."
   ]
  },
  {
   "cell_type": "code",
   "execution_count": 2,
   "metadata": {},
   "outputs": [
    {
     "name": "stdout",
     "output_type": "stream",
     "text": [
      "12\n"
     ]
    }
   ],
   "source": [
    "def find_min(numbers):\n",
    "    min_value = numbers[0]\n",
    "    for number in numbers:\n",
    "        if number < min_value:\n",
    "            min_value = number\n",
    "    return min_value\n",
    "\n",
    "#alling the function\n",
    "min_value = find_min(numbers)\n",
    "print(min_value)  # Output: 12 "
   ]
  },
  {
   "cell_type": "markdown",
   "metadata": {},
   "source": [
    "# Creating/Modifying Algorithms\n",
    "\n",
    "Important steps for creating an algorithm:\n",
    "- Define functions\n",
    "- Initialize ways to store data (array, lists, dictionaries, etc…)\n",
    "- Depending on the context, use iteration to specify conditions for variable\n",
    "- Output generated values from the algorithm\n",
    "\n",
    "Helpful tips for modifying algorithms:\n",
    "- Understand the algorithm so you're able to easily apply changes to it.\n",
    "- Break the program down into chunks.\n",
    "- Focus on each small part of the algorithm to get it to work.\n",
    "- Make sure to test individual components, and then the whole code together (This makes identifying errors, and correcting mistakes easier).\n",
    "\n",
    "Example (The sum of all even numbers between 1 and a given positive integer):\n"
   ]
  },
  {
   "cell_type": "code",
   "execution_count": 17,
   "metadata": {},
   "outputs": [
    {
     "name": "stdout",
     "output_type": "stream",
     "text": [
      "The sum of even numbers from 1 to 2 is 2\n"
     ]
    }
   ],
   "source": [
    "def sum_of_evens(n):\n",
    "    total = 0\n",
    "    for i in range(2, n + 1, 2): #Note the 2 and the very end initializes a step size of 2 for the function\n",
    "        total += i\n",
    "    return total\n",
    "\n",
    "n = int(input(\"Enter a positive integer: \"))\n",
    "result = sum_of_evens(n)\n",
    "print(f\"The sum of even numbers from 1 to {n} is {result}\")"
   ]
  },
  {
   "cell_type": "markdown",
   "metadata": {},
   "source": [
    "Hack #3:"
   ]
  },
  {
   "cell_type": "markdown",
   "metadata": {},
   "source": [
    "TODO: Adapt the above algorithm to output for the sum of odd numbers between 1 and a given integer. \n",
    "\n",
    "Try to come up with a unique algorithm (way) to achieve the above task."
   ]
  },
  {
   "cell_type": "code",
   "execution_count": 32,
   "metadata": {},
   "outputs": [
    {
     "name": "stdout",
     "output_type": "stream",
     "text": [
      "The sum of odd numbers from 1 to 3 is 4\n"
     ]
    }
   ],
   "source": [
    "def sum_of_odds(n):\n",
    "    total = 0\n",
    "    for i in range(1, n + 1, 2): \n",
    "        total += i\n",
    "    return total\n",
    "\n",
    "n = int(input(\"Enter a positive integer: \"))\n",
    "result = sum_of_odds(n)\n",
    "print(f\"The sum of odd numbers from 1 to {n} is {result}\")"
   ]
  },
  {
   "cell_type": "markdown",
   "metadata": {},
   "source": [
    "Solution:\n",
    "\n",
    "Think about how you would define an odd number, and output the sum of each element."
   ]
  },
  {
   "cell_type": "code",
   "execution_count": null,
   "metadata": {},
   "outputs": [],
   "source": [
    "def sum_of_odd_numbers(n):\n",
    "    total = 0\n",
    "\n",
    "    for i in range(1, n + 1):\n",
    "        if i % 2 != 0:  # Check if the number is odd\n",
    "            total += i\n",
    "\n",
    "    return total\n",
    "\n",
    "n = int(input(\"Enter a value for n: \"))\n",
    "result = sum_of_odd_numbers(n)\n",
    "print(f\"The sum of odd numbers from 1 to {n} is: {result}\")"
   ]
  },
  {
   "cell_type": "markdown",
   "metadata": {},
   "source": [
    "# Random Number Generation\n",
    "\n",
    "RANDOM (a, b) generates a number from a to b inclusive.\n",
    "Each result from the randomization is equally likely to occur.\n",
    "Using random number generation in a program means each execution may produce a different result.\n",
    "We can use the results from randomization to program simulations.\n",
    "\n",
    "What are the possibities for Answ3?\n",
    "Answ1 (0,2) #This means Answ1 can be anywhere from 0 to 2\n",
    "Answ2 (1,5) #This means Answ1 can be anywhere from 1 to 5\n",
    "Answ3 = Answ1 + Answ2\n",
    "\n",
    "﻿The lowest number answ1 will generate is 0 and the lowest number answ2 will generate is 1.\n",
    "Therefore, the lowest number answ3 could be is 1.\n",
    "The highest number answ1 will generate is 2 and the highest number answ2 will generate is 5.\n",
    "Therefore, the highest number answ3 could be is 7."
   ]
  },
  {
   "cell_type": "markdown",
   "metadata": {},
   "source": [
    "Generating Random Values:\n",
    " - In AP CSP, students learn to generate random values using certain code constructs, like the random module in Python which allows for random integer generation between specified values using random.randint(a, b)​1​. This random number generation introduces an element of unpredictability, vital for many programming applications.\n",
    "Application in Simulations:\n",
    "- Random values are crucial in simulations, mimicking real-world unpredictability. They help in creating diverse scenarios in simulations like weather patterns or game dynamics, thus providing a more realistic or varied simulation experience.\n",
    "Evaluating Code Segments:\n",
    "- Utilizing random values can aid in evaluating code segments by testing how code reacts to varied input, which is particularly useful in identifying potential bugs or inefficiencies.\n"
   ]
  },
  {
   "cell_type": "markdown",
   "metadata": {},
   "source": [
    "If you roll a die 3 times, and take the sum of all your rolls, what is the highest possible amount and the lowest possible amount you can get? \n",
    "\n",
    "Roll 1 (1,6)\n",
    "Roll 2 (1,6)\n",
    "Roll 3 (1,6)\n",
    "\n",
    "Lowest: 3\n",
    "Most: 18"
   ]
  },
  {
   "cell_type": "code",
   "execution_count": 39,
   "metadata": {},
   "outputs": [
    {
     "name": "stdout",
     "output_type": "stream",
     "text": [
      "Random value between 1 and 100: 30\n",
      "Dice Roll: 4\n"
     ]
    }
   ],
   "source": [
    "import random\n",
    "\n",
    "def generate_random():\n",
    "    value = random.randint(1, 100)\n",
    "    print(f'Random value between 1 and 100: {value}')\n",
    "\n",
    "    dice_roll = random.randint(1, 6)\n",
    "    print(f'Dice Roll: {dice_roll}')\n",
    "\n",
    "# Call the function\n",
    "generate_random()"
   ]
  },
  {
   "cell_type": "markdown",
   "metadata": {},
   "source": [
    "Hack #4"
   ]
  },
  {
   "cell_type": "markdown",
   "metadata": {},
   "source": [
    "Lets continue the fun...\n",
    "Make an algorithm that assigns 5 days with a random temperatures between 60-90 degrees Fahrenheit! "
   ]
  },
  {
   "cell_type": "code",
   "execution_count": 58,
   "metadata": {},
   "outputs": [
    {
     "name": "stdout",
     "output_type": "stream",
     "text": [
      "Day 1: Temperature: 68°F\n",
      "Day 2: Temperature: 84°F\n",
      "Day 3: Temperature: 82°F\n",
      "Day 4: Temperature: 61°F\n",
      "Day 5: Temperature: 82°F\n"
     ]
    }
   ],
   "source": [
    "import random\n",
    "\n",
    "def simulate_weather():\n",
    "    for day in range(1, 6):\n",
    "        temperature = random.randint(60, 90)\n",
    "        print(f'Day {day}: Temperature: {temperature}°F')\n",
    "\n",
    "# Call the function\n",
    "simulate_weather()"
   ]
  },
  {
   "cell_type": "markdown",
   "metadata": {},
   "source": [
    "Solution: \n",
    "\n",
    "How can you iterate between a range of 5 days, along with generate a random temperature between 60-90?"
   ]
  },
  {
   "cell_type": "code",
   "execution_count": 57,
   "metadata": {},
   "outputs": [
    {
     "name": "stdout",
     "output_type": "stream",
     "text": [
      "Day 1: Temperature: 77°F\n",
      "Day 2: Temperature: 62°F\n",
      "Day 3: Temperature: 60°F\n",
      "Day 4: Temperature: 80°F\n",
      "Day 5: Temperature: 72°F\n"
     ]
    }
   ],
   "source": [
    "import random\n",
    "\n",
    "def simulate_weather():\n",
    "    for day in range(1, 6):\n",
    "        temperature = random.randint(60, 90)\n",
    "        print(f'Day {day}: Temperature: {temperature}°F')\n",
    "\n",
    "# Call the function\n",
    "simulate_weather()"
   ]
  },
  {
   "cell_type": "markdown",
   "metadata": {},
   "source": [
    "# Homework: \n",
    "\n",
    "1. Create a program that follows the Collatz Conjecture. \n",
    "\n",
    "If a number is even, divide by 2.\n",
    "\n",
    "If a number is odd, multiply by 3 and add 1.\n",
    "\n",
    "If implemented correctly this algorithm will eventually go to 1. Try defining the initial number with any number beside 1 to see an interesting ouput. Output the result as a list. You may set a starting value for the list, so that the program can generate the list of numbers created when following the process. \n",
    "\n",
    "Ideas for above 90%:\n",
    "Try implementing user input into this program. Ask the user to enter a number they would like to start with. \n"
   ]
  },
  {
   "cell_type": "code",
   "execution_count": 59,
   "metadata": {},
   "outputs": [
    {
     "name": "stdout",
     "output_type": "stream",
     "text": [
      "Collatz Conjecture sequence for starting number 2\n",
      "[2, 1]\n"
     ]
    }
   ],
   "source": [
    "def collatz_conjecture(n):\n",
    "    collatz_list = [n]\n",
    "\n",
    "    while n != 1:\n",
    "        if n % 2 == 0:\n",
    "            n = n // 2\n",
    "        else:\n",
    "            n = 3 * n + 1\n",
    "        collatz_list.append(n)\n",
    "\n",
    "    return collatz_list\n",
    "\n",
    "def main():\n",
    "    try:\n",
    "        start_number = int(input(\"Enter a starting number (greater than 1): \"))\n",
    "        if start_number <= 1:\n",
    "            print(\"Please enter a number greater than 1.\")\n",
    "            return\n",
    "\n",
    "        result_list = collatz_conjecture(start_number)\n",
    "\n",
    "        print(\"Collatz Conjecture sequence for starting number\", start_number)\n",
    "        print(result_list)\n",
    "\n",
    "    except ValueError:\n",
    "        print(\"Invalid input. Please enter a valid integer.\")\n",
    "\n",
    "if __name__ == \"__main__\":\n",
    "    main()\n"
   ]
  },
  {
   "cell_type": "markdown",
   "metadata": {},
   "source": [
    "2. Create an algorithm that generates terms to the Fibonacci Sequence which outputs a specific number of terms defined in your code. The sequence starts off like 1, 1, 2, 3, 5, … each following term being the sum of the previous two.\n",
    "\n",
    "Ideas for above 90%:\n",
    "\n",
    "- Add user input\n",
    "- Display error message when an invalid input is specified\n",
    "- Find a way for the program to only specify a specific term in the sequence"
   ]
  },
  {
   "cell_type": "code",
   "execution_count": 61,
   "metadata": {},
   "outputs": [
    {
     "name": "stdout",
     "output_type": "stream",
     "text": [
      "Generated Fibonacci sequence: [1, 1, 2, 3, 5, 8, 13, 21, 34, 55, 89, 144, 233, 377, 610, 987, 1597, 2584, 4181, 6765, 10946, 17711, 28657, 46368, 75025, 121393, 196418, 317811, 514229, 832040, 1346269, 2178309, 3524578, 5702887, 9227465, 14930352, 24157817, 39088169, 63245986, 102334155, 165580141, 267914296, 433494437, 701408733, 1134903170, 1836311903, 2971215073, 4807526976, 7778742049, 12586269025, 20365011074, 32951280099, 53316291173, 86267571272, 139583862445, 225851433717, 365435296162, 591286729879, 956722026041, 1548008755920, 2504730781961, 4052739537881, 6557470319842, 10610209857723, 17167680177565, 27777890035288, 44945570212853, 72723460248141, 117669030460994, 190392490709135, 308061521170129, 498454011879264, 806515533049393, 1304969544928657, 2111485077978050, 3416454622906707, 5527939700884757, 8944394323791464, 14472334024676221, 23416728348467685, 37889062373143906, 61305790721611591, 99194853094755497, 160500643816367088, 259695496911122585, 420196140727489673, 679891637638612258, 1100087778366101931, 1779979416004714189, 2880067194370816120]\n",
      "The 5 term in the Fibonacci sequence is: 5\n"
     ]
    }
   ],
   "source": [
    "def fibonacci_sequence(num_terms):\n",
    "    # Initialize the first two terms of the sequence\n",
    "    fibonacci_sequence = [1, 1]\n",
    "\n",
    "    # Generate the Fibonacci sequence up to the specified number of terms\n",
    "    for i in range(2, num_terms):\n",
    "        next_term = fibonacci_sequence[-1] + fibonacci_sequence[-2]\n",
    "        fibonacci_sequence.append(next_term)\n",
    "\n",
    "    return fibonacci_sequence\n",
    "\n",
    "\n",
    "def display_specific_term(term_number, fibonacci_sequence):\n",
    "    # Display the specific term in the Fibonacci sequence\n",
    "    if term_number <= len(fibonacci_sequence):\n",
    "        print(f\"The {term_number} term in the Fibonacci sequence is: {fibonacci_sequence[term_number - 1]}\")\n",
    "    else:\n",
    "        print(\"Invalid term number. Please choose a term within the generated sequence.\")\n",
    "\n",
    "\n",
    "if __name__ == \"__main__\":\n",
    "    try:\n",
    "        num_terms = int(input(\"Enter the number of terms for the Fibonacci sequence: \"))\n",
    "\n",
    "        if num_terms < 1:\n",
    "            print(\"Invalid input. Please enter a positive integer.\")\n",
    "        else:\n",
    "            generated_sequence = fibonacci_sequence(num_terms)\n",
    "            print(\"Generated Fibonacci sequence:\", generated_sequence)\n",
    "\n",
    "            term_number = int(input(\"Enter the term number you want to display: \"))\n",
    "            display_specific_term(term_number, generated_sequence)\n",
    "    except ValueError:\n",
    "        print(\"Invalid input. Please enter a valid integer.\")\n"
   ]
  },
  {
   "cell_type": "markdown",
   "metadata": {},
   "source": [
    "3. Make a statistics calculator that calculates the mean, median, and mode of a specific series. Do this using iteration and without the use of imported modules (like the statistics one) that allows you to call pre defined functions like mean, median, and mode. Each of these calculations follows an algorithm. \n",
    "\n",
    "Ideas for above 90%:\n",
    "\n",
    "- Randomly generate a list of numbers (you can define it as a list of 5) to apply the calculator to.\n",
    "- If you can, generate a random number of elements in the data set as well (keep it between 5-10 elements). "
   ]
  },
  {
   "cell_type": "code",
   "execution_count": 62,
   "metadata": {},
   "outputs": [
    {
     "name": "stdout",
     "output_type": "stream",
     "text": [
      "Dataset: [8, 19, 7, 5, 18, 10, 7]\n",
      "Mean: 10.571428571428571\n",
      "Median: 8\n",
      "Mode: [7]\n"
     ]
    }
   ],
   "source": [
    "import random\n",
    "\n",
    "def calculate_mean(data):\n",
    "    return sum(data) / len(data)\n",
    "\n",
    "def calculate_median(data):\n",
    "    sorted_data = sorted(data)\n",
    "    n = len(sorted_data)\n",
    "    mid = n // 2\n",
    "    if n % 2 == 0:\n",
    "        return (sorted_data[mid - 1] + sorted_data[mid]) / 2\n",
    "    else:\n",
    "        return sorted_data[mid]\n",
    "\n",
    "def calculate_mode(data):\n",
    "    # Count occurrences of each element in the dataset\n",
    "    counts = {}\n",
    "    for item in data:\n",
    "        counts[item] = counts.get(item, 0) + 1\n",
    "    \n",
    "    # Find the mode(s)\n",
    "    max_count = max(counts.values())\n",
    "    mode = [item for item, count in counts.items() if count == max_count]\n",
    "    \n",
    "    return mode\n",
    "\n",
    "if __name__ == \"__main__\":\n",
    "    # Generate a random number of elements between 5 and 10\n",
    "    num_elements = random.randint(5, 10)\n",
    "\n",
    "    # Generate a list of random numbers\n",
    "    dataset = [random.randint(1, 20) for _ in range(num_elements)]\n",
    "\n",
    "    # Calculate mean, median, and mode\n",
    "    mean = calculate_mean(dataset)\n",
    "    median = calculate_median(dataset)\n",
    "    mode = calculate_mode(dataset)\n",
    "\n",
    "    # Display the results\n",
    "    print(\"Dataset:\", dataset)\n",
    "    print(\"Mean:\", mean)\n",
    "    print(\"Median:\", median)\n",
    "    print(\"Mode:\", mode)\n"
   ]
  }
 ],
 "metadata": {
  "kernelspec": {
   "display_name": "Python 3",
   "language": "python",
   "name": "python3"
  },
  "language_info": {
   "codemirror_mode": {
    "name": "ipython",
    "version": 3
   },
   "file_extension": ".py",
   "mimetype": "text/x-python",
   "name": "python",
   "nbconvert_exporter": "python",
   "pygments_lexer": "ipython3",
   "version": "3.11.5"
  },
  "orig_nbformat": 4
 },
 "nbformat": 4,
 "nbformat_minor": 2
}

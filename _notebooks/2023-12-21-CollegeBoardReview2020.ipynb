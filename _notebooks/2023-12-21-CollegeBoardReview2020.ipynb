{
 "cells": [
  {
   "cell_type": "markdown",
   "metadata": {},
   "source": [
    "## Pre Score Assessment\n",
    "\n",
    "I felt pretty good about this test, I think I did pretty good."
   ]
  },
  {
   "cell_type": "markdown",
   "metadata": {},
   "source": [
    "# ***Questions I Got Wrong***\n",
    "\n",
    "Q5: Simle Mistake \n",
    "\n",
    "Q11: Misread the question\n",
    "\n",
    "Q23: Misread the question\n",
    "\n",
    "Q42: Misread Answer\n",
    "\n",
    "Q50: Misread Answer\n",
    "\n",
    "Q60-63: Misread Answer\n",
    "\n",
    "Q65: Misread Answer\n",
    "\n",
    "Q67: Misread Answer"
   ]
  },
  {
   "cell_type": "markdown",
   "metadata": {},
   "source": [
    "# ***Questions I Got Right***\n",
    "\n",
    "- Every question I got right was pretty straightforward, i was only a little unsure towards the end of the test when it asked me for 2 answers. "
   ]
  }
 ],
 "metadata": {
  "language_info": {
   "name": "python"
  },
  "orig_nbformat": 4
 },
 "nbformat": 4,
 "nbformat_minor": 2
}
